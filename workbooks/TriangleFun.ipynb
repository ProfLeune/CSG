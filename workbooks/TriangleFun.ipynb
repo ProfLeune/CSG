{
 "cells": [
  {
   "cell_type": "code",
   "execution_count": 14,
   "metadata": {},
   "outputs": [
    {
     "data": {
      "text/plain": [
       "211"
      ]
     },
     "execution_count": 14,
     "metadata": {},
     "output_type": "execute_result"
    }
   ],
   "source": [
    "\"\"\" Early experiment to parse an obj file and find out what triangles are in it. Then, convert those triangles to STL format\n",
    "\n",
    "1. OBJ files seem to contain more than triangles. For now, I am ignoring all faces that have more than three points\n",
    "2. I am only looking at \"v\" and \"f\" lines, but that may need to change\n",
    "3. Not outputing anything yet\n",
    "\n",
    "STL format is pretty straightforward. It comes in two \"flavors\" (ASCII and binary), but both have the same data. \n",
    "https://en.wikipedia.org/wiki/STL_(file_format)\n",
    "\n",
    "Binary seems the most common. NOTE: Little Endian!\n",
    "File starts with some metadata:\n",
    "\n",
    "UINT8[80] – Header (is generally ignored, apparently)\n",
    "UINT32 – Number of triangles\n",
    "\n",
    "Then the triangles; each is representd as 18 bytes:\n",
    "\n",
    "foreach triangle\n",
    "REAL32[3] – Normal vector\n",
    "REAL32[3] – Vertex 1\n",
    "REAL32[3] – Vertex 2\n",
    "REAL32[3] – Vertex 3\n",
    "UINT16 – Attribute byte count\n",
    "end\n",
    "\n",
    "3rd component in each triplet on f-field is the index of the normal vector. Note: we assume that the obj file contains \n",
    "data in order: v, vn, f\n",
    "\n",
    "\"\"\"\n",
    "import re\n",
    "import struct\n",
    "\n",
    "vertices=[]\n",
    "normalvectors=[]\n",
    "triangles=[]\n",
    "with open('../data/letterMG.obj', 'r') as f:\n",
    "        for line in f.readlines():\n",
    "            if line.startswith(\"v \"): # vertices\n",
    "                data=re.split(\"\\s+\", line.strip())\n",
    "                vertices.append(\n",
    "                    (float(data[1]), float(data[2]), float(data[3]))\n",
    "                )\n",
    "            elif line.startswith(\"vn \"): # normal vectors\n",
    "                data=re.split(\"\\s+\", line.strip())\n",
    "                normalvectors.append(\n",
    "                    (float(data[1]), float(data[2]), float(data[3]))\n",
    "                )\n",
    "            elif line.startswith(\"f \"): # faces\n",
    "                data=re.split(\"\\s+\", line.strip())\n",
    "                if len(data) > 4:\n",
    "                    pass # ignore anything that isn't a triangle right now\n",
    "                else:\n",
    "                    triangle=(normalvectors[int(data[1].split(\"/\")[2])],\n",
    "                              vertices[int(data[1].split(\"/\")[0])], \n",
    "                              vertices[int(data[2].split(\"/\")[0])], \n",
    "                              vertices[int(data[3].split(\"/\")[0])])\n",
    "                    triangles.append(triangle)\n",
    "            else:\n",
    "                pass # ignore the rest\n",
    "            \n",
    "len(triangles)"
   ]
  },
  {
   "cell_type": "code",
   "execution_count": 15,
   "metadata": {},
   "outputs": [
    {
     "data": {
      "text/plain": [
       "10634"
      ]
     },
     "execution_count": 15,
     "metadata": {},
     "output_type": "execute_result"
    }
   ],
   "source": [
    "from struct import pack\n",
    "\n",
    "out=bytearray()\n",
    "out.extend(b'\\x00' * 80)\n",
    "out.extend(pack(\"<I\", len(triangles))) # number of triangles as unsigned int (32 bits)\n",
    "for triangle in triangles:\n",
    "    for c in range(4): # four tuples per triangle\n",
    "        for p in range(3): # three point per tuple\n",
    "            out.extend(pack(\"<f\", triangle[c][p])) # each point is a real (32 bits)\n",
    "    out.extend(pack(\"<H\", 0)) # attributes is an unsigned int (16 bits)  \n",
    "\n",
    "assert len(out) == 80 + 4 + len(triangles)*50 # sanity check\n",
    "        \n",
    "with open('../data/letterMG.stl', 'wb') as f:\n",
    "    f.write(out)\n",
    "    \n",
    "len(out)"
   ]
  },
  {
   "cell_type": "code",
   "execution_count": null,
   "metadata": {},
   "outputs": [],
   "source": []
  }
 ],
 "metadata": {
  "kernelspec": {
   "display_name": "Python 3",
   "language": "python",
   "name": "python3"
  },
  "language_info": {
   "codemirror_mode": {
    "name": "ipython",
    "version": 3
   },
   "file_extension": ".py",
   "mimetype": "text/x-python",
   "name": "python",
   "nbconvert_exporter": "python",
   "pygments_lexer": "ipython3",
   "version": "3.9.0"
  }
 },
 "nbformat": 4,
 "nbformat_minor": 4
}
