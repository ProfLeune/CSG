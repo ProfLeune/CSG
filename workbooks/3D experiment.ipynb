{
 "cells": [
  {
   "cell_type": "code",
   "execution_count": 30,
   "metadata": {},
   "outputs": [
    {
     "data": {
      "text/plain": [
       "[((-1, -1, -1), (0, 1, 0), (1, 0, 0), (0, 0, 1)),\n",
       " ((0, 0, -1), (0, 0, 0), (0, 1, 0), (1, 0, 0)),\n",
       " ((1, 0, 0), (0, 0, 0), (0, 1, 0), (0, 0, 1)),\n",
       " ((1, 0, 0), (0, 0, 0), (1, 0, 0), (0, 0, 1))]"
      ]
     },
     "execution_count": 30,
     "metadata": {},
     "output_type": "execute_result"
    }
   ],
   "source": [
    "\"\"\"\n",
    "https://www.khronos.org/opengl/wiki/Calculating_a_Surface_Normal\n",
    "https://docs.sympy.org/latest/modules/geometry/plane.html\n",
    "\"\"\"\n",
    "from sympy import Plane,Point3D\n",
    "\n",
    "a=(0,1,0)\n",
    "b=(1,0,0)\n",
    "c=(0,0,1)\n",
    "o=(0,0,0)\n",
    "\n",
    "abc=Plane(a,b,c)\n",
    "oab=Plane(o,a,b)\n",
    "oac=Plane(o,a,c)\n",
    "obc=Plane(o,b,c)\n",
    "\n",
    "triangles=[(abc.normal_vector, a, b, c),\n",
    "           (oab.normal_vector, o, a, b),\n",
    "           (oac.normal_vector, o, a, c),\n",
    "           (oac.normal_vector, o, b, c)]"
   ]
  },
  {
   "cell_type": "code",
   "execution_count": 33,
   "metadata": {},
   "outputs": [],
   "source": [
    "from struct import pack\n",
    "\n",
    "out=bytearray()\n",
    "out.extend(b'\\x00' * 80)\n",
    "out.extend(pack(\"<I\", len(triangles))) # number of triangles as unsigned int (32 bits)\n",
    "for triangle in triangles:\n",
    "    for c in range(4): # four tuples per triangle\n",
    "        for p in range(3): # three point per tuple\n",
    "            out.extend(pack(\"<f\", triangle[c][p])) # each point is a real (32 bits)\n",
    "    out.extend(pack(\"<H\", 0)) # attributes is an unsigned int (16 bits)  \n",
    "\n",
    "assert len(out) == 80 + 4 + len(triangles)*50 # sanity check\n",
    "\n",
    "with open('../data/pyramid.stl', 'wb') as f:\n",
    "    f.write(out)"
   ]
  },
  {
   "cell_type": "code",
   "execution_count": null,
   "metadata": {},
   "outputs": [],
   "source": []
  }
 ],
 "metadata": {
  "kernelspec": {
   "display_name": "Python 3",
   "language": "python",
   "name": "python3"
  },
  "language_info": {
   "codemirror_mode": {
    "name": "ipython",
    "version": 3
   },
   "file_extension": ".py",
   "mimetype": "text/x-python",
   "name": "python",
   "nbconvert_exporter": "python",
   "pygments_lexer": "ipython3",
   "version": "3.9.0"
  }
 },
 "nbformat": 4,
 "nbformat_minor": 4
}
